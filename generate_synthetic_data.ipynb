{
 "cells": [
  {
   "cell_type": "code",
   "execution_count": 1,
   "metadata": {},
   "outputs": [
    {
     "name": "stdout",
     "output_type": "stream",
     "text": [
      "Synthetic dataset generated and saved as ngsim_synthetic.csv\n"
     ]
    }
   ],
   "source": [
    "import numpy as np\n",
    "import pandas as pd\n",
    "\n",
    "# Parameters for NGSIM-like data\n",
    "num_vehicles_ngsim = 12350\n",
    "num_trajectories_ngsim = 56305\n",
    "sampling_interval_ngsim = 160  # seconds\n",
    "\n",
    "# Parameters for Porto-like data\n",
    "num_vehicles_porto = 442\n",
    "sampling_interval_porto = 15  # seconds\n",
    "\n",
    "# Adversarial data percentage\n",
    "adversarial_ratio = 0.1  # 10% of the data is adversarial\n",
    "\n",
    "# Generate NGSIM-like data\n",
    "ngsim_data = []\n",
    "for i in range(num_trajectories_ngsim):\n",
    "    vehicle_id = np.random.randint(1, num_vehicles_ngsim + 1)\n",
    "    time_stamps = np.arange(0, sampling_interval_ngsim * 4, sampling_interval_ngsim)  # 4 GPS points\n",
    "    latitudes = np.random.uniform(-90, 90, 4)\n",
    "    longitudes = np.random.uniform(-180, 180, 4)\n",
    "    ngsim_data.append([vehicle_id, time_stamps, latitudes, longitudes])\n",
    "\n",
    "# Convert to DataFrame\n",
    "ngsim_df = pd.DataFrame(ngsim_data, columns=['vehicle_id', 'time_stamps', 'latitude', 'longitude'])\n",
    "\n",
    "# Introduce adversarial data\n",
    "num_adversarial = int(num_trajectories_ngsim * adversarial_ratio)\n",
    "adversarial_indices = np.random.choice(len(ngsim_df), num_adversarial, replace=False)\n",
    "ngsim_df.loc[adversarial_indices, ['latitude', 'longitude']] += np.random.normal(0, 0.01, size=(num_adversarial, 2))\n",
    "\n",
    "# Label the data\n",
    "ngsim_df['label'] = 0\n",
    "ngsim_df.loc[adversarial_indices, 'label'] = 1\n",
    "\n",
    "ngsim_df.to_csv('ngsim_synthetic.csv', index=False)\n",
    "\n",
    "\n",
    "print(\"Synthetic dataset generated and saved as ngsim_synthetic.csv\")\n"
   ]
  },
  {
   "cell_type": "code",
   "execution_count": null,
   "metadata": {},
   "outputs": [],
   "source": []
  }
 ],
 "metadata": {
  "kernelspec": {
   "display_name": "Python 3",
   "language": "python",
   "name": "python3"
  },
  "language_info": {
   "codemirror_mode": {
    "name": "ipython",
    "version": 3
   },
   "file_extension": ".py",
   "mimetype": "text/x-python",
   "name": "python",
   "nbconvert_exporter": "python",
   "pygments_lexer": "ipython3",
   "version": "3.7.6"
  }
 },
 "nbformat": 4,
 "nbformat_minor": 4
}
